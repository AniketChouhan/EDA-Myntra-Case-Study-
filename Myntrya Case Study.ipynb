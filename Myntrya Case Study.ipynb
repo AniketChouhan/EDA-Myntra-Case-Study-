{
 "cells": [
  {
   "cell_type": "markdown",
   "id": "3e4a64ad",
   "metadata": {},
   "source": [
    "### Importing Important Packages"
   ]
  },
  {
   "cell_type": "code",
   "execution_count": 1,
   "id": "4e25787e",
   "metadata": {},
   "outputs": [],
   "source": [
    "import pandas as pd\n",
    "import numpy as np\n",
    "import matplotlib.pyplot as plt\n",
    "import seaborn as sns"
   ]
  },
  {
   "cell_type": "markdown",
   "id": "fc2cca00",
   "metadata": {},
   "source": [
    "### Importing Data in python enviroment"
   ]
  },
  {
   "cell_type": "code",
   "execution_count": 2,
   "id": "dc3049c9",
   "metadata": {},
   "outputs": [],
   "source": [
    "Data_Catalog = pd.read_csv(\"C:/Users/HP/Downloads/products catalog.csv\")"
   ]
  },
  {
   "cell_type": "code",
   "execution_count": 3,
   "id": "d4c613bc",
   "metadata": {},
   "outputs": [],
   "source": [
    "Data_Details = pd.read_csv(\"C:/Users/HP/Downloads/product details.csv\")"
   ]
  },
  {
   "cell_type": "code",
   "execution_count": 4,
   "id": "0a0ec8e4",
   "metadata": {
    "scrolled": true
   },
   "outputs": [
    {
     "data": {
      "text/html": [
       "<div>\n",
       "<style scoped>\n",
       "    .dataframe tbody tr th:only-of-type {\n",
       "        vertical-align: middle;\n",
       "    }\n",
       "\n",
       "    .dataframe tbody tr th {\n",
       "        vertical-align: top;\n",
       "    }\n",
       "\n",
       "    .dataframe thead th {\n",
       "        text-align: right;\n",
       "    }\n",
       "</style>\n",
       "<table border=\"1\" class=\"dataframe\">\n",
       "  <thead>\n",
       "    <tr style=\"text-align: right;\">\n",
       "      <th></th>\n",
       "      <th>Gender</th>\n",
       "      <th>Price (INR)</th>\n",
       "      <th>NumImages</th>\n",
       "      <th>ID</th>\n",
       "      <th>Description</th>\n",
       "      <th>PrimaryColor</th>\n",
       "    </tr>\n",
       "  </thead>\n",
       "  <tbody>\n",
       "    <tr>\n",
       "      <th>0</th>\n",
       "      <td>Women</td>\n",
       "      <td>593</td>\n",
       "      <td>5</td>\n",
       "      <td>10182131</td>\n",
       "      <td>Off-White printed woven A-line  top, has a rou...</td>\n",
       "      <td>White</td>\n",
       "    </tr>\n",
       "    <tr>\n",
       "      <th>1</th>\n",
       "      <td>Men</td>\n",
       "      <td>6396</td>\n",
       "      <td>5</td>\n",
       "      <td>10052169</td>\n",
       "      <td>Display: AnalogueMovement: QuartzPower source:...</td>\n",
       "      <td>Black</td>\n",
       "    </tr>\n",
       "    <tr>\n",
       "      <th>2</th>\n",
       "      <td>Women</td>\n",
       "      <td>599</td>\n",
       "      <td>5</td>\n",
       "      <td>10168643</td>\n",
       "      <td>Blue printed knitted regular  top, has a high ...</td>\n",
       "      <td>Blue</td>\n",
       "    </tr>\n",
       "    <tr>\n",
       "      <th>3</th>\n",
       "      <td>Men</td>\n",
       "      <td>1034</td>\n",
       "      <td>5</td>\n",
       "      <td>10155427</td>\n",
       "      <td>Grey and Purple checked smart casual shirt, ha...</td>\n",
       "      <td>Grey</td>\n",
       "    </tr>\n",
       "    <tr>\n",
       "      <th>4</th>\n",
       "      <td>Men</td>\n",
       "      <td>477</td>\n",
       "      <td>3</td>\n",
       "      <td>10191059</td>\n",
       "      <td>Beige and Brown striped beltReversible: NoStre...</td>\n",
       "      <td>Brown</td>\n",
       "    </tr>\n",
       "  </tbody>\n",
       "</table>\n",
       "</div>"
      ],
      "text/plain": [
       "  Gender  Price (INR)  NumImages        ID  \\\n",
       "0  Women          593          5  10182131   \n",
       "1    Men         6396          5  10052169   \n",
       "2  Women          599          5  10168643   \n",
       "3    Men         1034          5  10155427   \n",
       "4    Men          477          3  10191059   \n",
       "\n",
       "                                         Description PrimaryColor  \n",
       "0  Off-White printed woven A-line  top, has a rou...        White  \n",
       "1  Display: AnalogueMovement: QuartzPower source:...        Black  \n",
       "2  Blue printed knitted regular  top, has a high ...         Blue  \n",
       "3  Grey and Purple checked smart casual shirt, ha...         Grey  \n",
       "4  Beige and Brown striped beltReversible: NoStre...        Brown  "
      ]
     },
     "execution_count": 4,
     "metadata": {},
     "output_type": "execute_result"
    }
   ],
   "source": [
    "Data_Catalog.head()"
   ]
  },
  {
   "cell_type": "code",
   "execution_count": 5,
   "id": "19361d99",
   "metadata": {},
   "outputs": [
    {
     "data": {
      "text/html": [
       "<div>\n",
       "<style scoped>\n",
       "    .dataframe tbody tr th:only-of-type {\n",
       "        vertical-align: middle;\n",
       "    }\n",
       "\n",
       "    .dataframe tbody tr th {\n",
       "        vertical-align: top;\n",
       "    }\n",
       "\n",
       "    .dataframe thead th {\n",
       "        text-align: right;\n",
       "    }\n",
       "</style>\n",
       "<table border=\"1\" class=\"dataframe\">\n",
       "  <thead>\n",
       "    <tr style=\"text-align: right;\">\n",
       "      <th></th>\n",
       "      <th>ProductID</th>\n",
       "      <th>ProductName</th>\n",
       "      <th>ProductBrand</th>\n",
       "    </tr>\n",
       "  </thead>\n",
       "  <tbody>\n",
       "    <tr>\n",
       "      <th>0</th>\n",
       "      <td>10017413</td>\n",
       "      <td>DKNY Unisex Black &amp; Grey Printed Medium Trolle...</td>\n",
       "      <td>DKNY</td>\n",
       "    </tr>\n",
       "    <tr>\n",
       "      <th>1</th>\n",
       "      <td>10016283</td>\n",
       "      <td>EthnoVogue Women Beige &amp; Grey Made to Measure ...</td>\n",
       "      <td>EthnoVogue</td>\n",
       "    </tr>\n",
       "    <tr>\n",
       "      <th>2</th>\n",
       "      <td>10009781</td>\n",
       "      <td>SPYKAR Women Pink Alexa Super Skinny Fit High-...</td>\n",
       "      <td>SPYKAR</td>\n",
       "    </tr>\n",
       "    <tr>\n",
       "      <th>3</th>\n",
       "      <td>10015921</td>\n",
       "      <td>Raymond Men Blue Self-Design Single-Breasted B...</td>\n",
       "      <td>Raymond</td>\n",
       "    </tr>\n",
       "    <tr>\n",
       "      <th>4</th>\n",
       "      <td>10017833</td>\n",
       "      <td>Parx Men Brown &amp; Off-White Slim Fit Printed Ca...</td>\n",
       "      <td>Parx</td>\n",
       "    </tr>\n",
       "  </tbody>\n",
       "</table>\n",
       "</div>"
      ],
      "text/plain": [
       "   ProductID                                        ProductName ProductBrand\n",
       "0   10017413  DKNY Unisex Black & Grey Printed Medium Trolle...         DKNY\n",
       "1   10016283  EthnoVogue Women Beige & Grey Made to Measure ...   EthnoVogue\n",
       "2   10009781  SPYKAR Women Pink Alexa Super Skinny Fit High-...       SPYKAR\n",
       "3   10015921  Raymond Men Blue Self-Design Single-Breasted B...      Raymond\n",
       "4   10017833  Parx Men Brown & Off-White Slim Fit Printed Ca...         Parx"
      ]
     },
     "execution_count": 5,
     "metadata": {},
     "output_type": "execute_result"
    }
   ],
   "source": [
    "Data_Details.head()"
   ]
  },
  {
   "cell_type": "markdown",
   "id": "a484ac25",
   "metadata": {},
   "source": [
    "### Check the structure, statistics and other important functions."
   ]
  },
  {
   "cell_type": "code",
   "execution_count": 6,
   "id": "5f9bd505",
   "metadata": {
    "scrolled": true
   },
   "outputs": [
    {
     "data": {
      "text/html": [
       "<div>\n",
       "<style scoped>\n",
       "    .dataframe tbody tr th:only-of-type {\n",
       "        vertical-align: middle;\n",
       "    }\n",
       "\n",
       "    .dataframe tbody tr th {\n",
       "        vertical-align: top;\n",
       "    }\n",
       "\n",
       "    .dataframe thead th {\n",
       "        text-align: right;\n",
       "    }\n",
       "</style>\n",
       "<table border=\"1\" class=\"dataframe\">\n",
       "  <thead>\n",
       "    <tr style=\"text-align: right;\">\n",
       "      <th></th>\n",
       "      <th>Gender</th>\n",
       "      <th>Price (INR)</th>\n",
       "      <th>NumImages</th>\n",
       "      <th>ID</th>\n",
       "      <th>Description</th>\n",
       "      <th>PrimaryColor</th>\n",
       "    </tr>\n",
       "  </thead>\n",
       "  <tbody>\n",
       "    <tr>\n",
       "      <th>count</th>\n",
       "      <td>12491</td>\n",
       "      <td>12491.000000</td>\n",
       "      <td>12491.000000</td>\n",
       "      <td>1.249100e+04</td>\n",
       "      <td>12491</td>\n",
       "      <td>11597</td>\n",
       "    </tr>\n",
       "    <tr>\n",
       "      <th>unique</th>\n",
       "      <td>6</td>\n",
       "      <td>NaN</td>\n",
       "      <td>NaN</td>\n",
       "      <td>NaN</td>\n",
       "      <td>10435</td>\n",
       "      <td>27</td>\n",
       "    </tr>\n",
       "    <tr>\n",
       "      <th>top</th>\n",
       "      <td>Women</td>\n",
       "      <td>NaN</td>\n",
       "      <td>NaN</td>\n",
       "      <td>NaN</td>\n",
       "      <td>Blue medium wash 5-pocket mid-rise jeans, clea...</td>\n",
       "      <td>Blue</td>\n",
       "    </tr>\n",
       "    <tr>\n",
       "      <th>freq</th>\n",
       "      <td>5126</td>\n",
       "      <td>NaN</td>\n",
       "      <td>NaN</td>\n",
       "      <td>NaN</td>\n",
       "      <td>54</td>\n",
       "      <td>3443</td>\n",
       "    </tr>\n",
       "    <tr>\n",
       "      <th>mean</th>\n",
       "      <td>NaN</td>\n",
       "      <td>1452.660956</td>\n",
       "      <td>4.913698</td>\n",
       "      <td>9.917160e+06</td>\n",
       "      <td>NaN</td>\n",
       "      <td>NaN</td>\n",
       "    </tr>\n",
       "    <tr>\n",
       "      <th>std</th>\n",
       "      <td>NaN</td>\n",
       "      <td>2118.503976</td>\n",
       "      <td>1.092333</td>\n",
       "      <td>1.438006e+06</td>\n",
       "      <td>NaN</td>\n",
       "      <td>NaN</td>\n",
       "    </tr>\n",
       "    <tr>\n",
       "      <th>min</th>\n",
       "      <td>NaN</td>\n",
       "      <td>90.000000</td>\n",
       "      <td>1.000000</td>\n",
       "      <td>1.012060e+05</td>\n",
       "      <td>NaN</td>\n",
       "      <td>NaN</td>\n",
       "    </tr>\n",
       "    <tr>\n",
       "      <th>25%</th>\n",
       "      <td>NaN</td>\n",
       "      <td>649.000000</td>\n",
       "      <td>5.000000</td>\n",
       "      <td>1.006215e+07</td>\n",
       "      <td>NaN</td>\n",
       "      <td>NaN</td>\n",
       "    </tr>\n",
       "    <tr>\n",
       "      <th>50%</th>\n",
       "      <td>NaN</td>\n",
       "      <td>920.000000</td>\n",
       "      <td>5.000000</td>\n",
       "      <td>1.015463e+07</td>\n",
       "      <td>NaN</td>\n",
       "      <td>NaN</td>\n",
       "    </tr>\n",
       "    <tr>\n",
       "      <th>75%</th>\n",
       "      <td>NaN</td>\n",
       "      <td>1499.000000</td>\n",
       "      <td>5.000000</td>\n",
       "      <td>1.021565e+07</td>\n",
       "      <td>NaN</td>\n",
       "      <td>NaN</td>\n",
       "    </tr>\n",
       "    <tr>\n",
       "      <th>max</th>\n",
       "      <td>NaN</td>\n",
       "      <td>63090.000000</td>\n",
       "      <td>10.000000</td>\n",
       "      <td>1.027514e+07</td>\n",
       "      <td>NaN</td>\n",
       "      <td>NaN</td>\n",
       "    </tr>\n",
       "  </tbody>\n",
       "</table>\n",
       "</div>"
      ],
      "text/plain": [
       "       Gender   Price (INR)     NumImages            ID  \\\n",
       "count   12491  12491.000000  12491.000000  1.249100e+04   \n",
       "unique      6           NaN           NaN           NaN   \n",
       "top     Women           NaN           NaN           NaN   \n",
       "freq     5126           NaN           NaN           NaN   \n",
       "mean      NaN   1452.660956      4.913698  9.917160e+06   \n",
       "std       NaN   2118.503976      1.092333  1.438006e+06   \n",
       "min       NaN     90.000000      1.000000  1.012060e+05   \n",
       "25%       NaN    649.000000      5.000000  1.006215e+07   \n",
       "50%       NaN    920.000000      5.000000  1.015463e+07   \n",
       "75%       NaN   1499.000000      5.000000  1.021565e+07   \n",
       "max       NaN  63090.000000     10.000000  1.027514e+07   \n",
       "\n",
       "                                              Description PrimaryColor  \n",
       "count                                               12491        11597  \n",
       "unique                                              10435           27  \n",
       "top     Blue medium wash 5-pocket mid-rise jeans, clea...         Blue  \n",
       "freq                                                   54         3443  \n",
       "mean                                                  NaN          NaN  \n",
       "std                                                   NaN          NaN  \n",
       "min                                                   NaN          NaN  \n",
       "25%                                                   NaN          NaN  \n",
       "50%                                                   NaN          NaN  \n",
       "75%                                                   NaN          NaN  \n",
       "max                                                   NaN          NaN  "
      ]
     },
     "execution_count": 6,
     "metadata": {},
     "output_type": "execute_result"
    }
   ],
   "source": [
    "Data_Catalog.describe(include = 'all')"
   ]
  },
  {
   "cell_type": "code",
   "execution_count": 7,
   "id": "9d428485",
   "metadata": {},
   "outputs": [
    {
     "data": {
      "text/plain": [
       "array(['Women', 'Men', 'Unisex', 'Boys', 'Girls', 'Unisex Kids'],\n",
       "      dtype=object)"
      ]
     },
     "execution_count": 7,
     "metadata": {},
     "output_type": "execute_result"
    }
   ],
   "source": [
    "Data_Catalog.Gender.unique()"
   ]
  },
  {
   "cell_type": "code",
   "execution_count": 8,
   "id": "2ae10e78",
   "metadata": {},
   "outputs": [
    {
     "data": {
      "text/plain": [
       "Women          5126\n",
       "Men            4591\n",
       "Unisex         1188\n",
       "Boys           1100\n",
       "Girls           440\n",
       "Unisex Kids      46\n",
       "Name: Gender, dtype: int64"
      ]
     },
     "execution_count": 8,
     "metadata": {},
     "output_type": "execute_result"
    }
   ],
   "source": [
    "Data_Catalog.Gender.value_counts()"
   ]
  },
  {
   "cell_type": "code",
   "execution_count": 9,
   "id": "c82226d5",
   "metadata": {},
   "outputs": [],
   "source": [
    "x= []\n",
    "for i in Data_Catalog.Gender:\n",
    "    if i == 'Women' or i == 'Girls':\n",
    "        x.append('F')\n",
    "    elif i =='Men' or i == 'Boys':\n",
    "        x.append('M')\n",
    "    else:\n",
    "        x.append('U')\n",
    "        \n",
    "Data_Catalog['New_Gender'] = x"
   ]
  },
  {
   "cell_type": "code",
   "execution_count": 10,
   "id": "03c87d3c",
   "metadata": {},
   "outputs": [
    {
     "data": {
      "text/html": [
       "<div>\n",
       "<style scoped>\n",
       "    .dataframe tbody tr th:only-of-type {\n",
       "        vertical-align: middle;\n",
       "    }\n",
       "\n",
       "    .dataframe tbody tr th {\n",
       "        vertical-align: top;\n",
       "    }\n",
       "\n",
       "    .dataframe thead th {\n",
       "        text-align: right;\n",
       "    }\n",
       "</style>\n",
       "<table border=\"1\" class=\"dataframe\">\n",
       "  <thead>\n",
       "    <tr style=\"text-align: right;\">\n",
       "      <th></th>\n",
       "      <th>Gender</th>\n",
       "      <th>Price (INR)</th>\n",
       "      <th>NumImages</th>\n",
       "      <th>ID</th>\n",
       "      <th>Description</th>\n",
       "      <th>PrimaryColor</th>\n",
       "      <th>New_Gender</th>\n",
       "    </tr>\n",
       "  </thead>\n",
       "  <tbody>\n",
       "    <tr>\n",
       "      <th>0</th>\n",
       "      <td>Women</td>\n",
       "      <td>593</td>\n",
       "      <td>5</td>\n",
       "      <td>10182131</td>\n",
       "      <td>Off-White printed woven A-line  top, has a rou...</td>\n",
       "      <td>White</td>\n",
       "      <td>F</td>\n",
       "    </tr>\n",
       "    <tr>\n",
       "      <th>1</th>\n",
       "      <td>Men</td>\n",
       "      <td>6396</td>\n",
       "      <td>5</td>\n",
       "      <td>10052169</td>\n",
       "      <td>Display: AnalogueMovement: QuartzPower source:...</td>\n",
       "      <td>Black</td>\n",
       "      <td>M</td>\n",
       "    </tr>\n",
       "    <tr>\n",
       "      <th>2</th>\n",
       "      <td>Women</td>\n",
       "      <td>599</td>\n",
       "      <td>5</td>\n",
       "      <td>10168643</td>\n",
       "      <td>Blue printed knitted regular  top, has a high ...</td>\n",
       "      <td>Blue</td>\n",
       "      <td>F</td>\n",
       "    </tr>\n",
       "    <tr>\n",
       "      <th>3</th>\n",
       "      <td>Men</td>\n",
       "      <td>1034</td>\n",
       "      <td>5</td>\n",
       "      <td>10155427</td>\n",
       "      <td>Grey and Purple checked smart casual shirt, ha...</td>\n",
       "      <td>Grey</td>\n",
       "      <td>M</td>\n",
       "    </tr>\n",
       "    <tr>\n",
       "      <th>4</th>\n",
       "      <td>Men</td>\n",
       "      <td>477</td>\n",
       "      <td>3</td>\n",
       "      <td>10191059</td>\n",
       "      <td>Beige and Brown striped beltReversible: NoStre...</td>\n",
       "      <td>Brown</td>\n",
       "      <td>M</td>\n",
       "    </tr>\n",
       "  </tbody>\n",
       "</table>\n",
       "</div>"
      ],
      "text/plain": [
       "  Gender  Price (INR)  NumImages        ID  \\\n",
       "0  Women          593          5  10182131   \n",
       "1    Men         6396          5  10052169   \n",
       "2  Women          599          5  10168643   \n",
       "3    Men         1034          5  10155427   \n",
       "4    Men          477          3  10191059   \n",
       "\n",
       "                                         Description PrimaryColor New_Gender  \n",
       "0  Off-White printed woven A-line  top, has a rou...        White          F  \n",
       "1  Display: AnalogueMovement: QuartzPower source:...        Black          M  \n",
       "2  Blue printed knitted regular  top, has a high ...         Blue          F  \n",
       "3  Grey and Purple checked smart casual shirt, ha...         Grey          M  \n",
       "4  Beige and Brown striped beltReversible: NoStre...        Brown          M  "
      ]
     },
     "execution_count": 10,
     "metadata": {},
     "output_type": "execute_result"
    }
   ],
   "source": [
    "Data_Catalog.head()"
   ]
  },
  {
   "cell_type": "code",
   "execution_count": 11,
   "id": "714dc5d9",
   "metadata": {},
   "outputs": [
    {
     "data": {
      "text/plain": [
       "M    5691\n",
       "F    5566\n",
       "U    1234\n",
       "Name: New_Gender, dtype: int64"
      ]
     },
     "execution_count": 11,
     "metadata": {},
     "output_type": "execute_result"
    }
   ],
   "source": [
    "Data_Catalog.New_Gender.value_counts()"
   ]
  },
  {
   "cell_type": "code",
   "execution_count": 12,
   "id": "c0d041e9",
   "metadata": {},
   "outputs": [],
   "source": [
    "x= []\n",
    "for i in Data_Catalog.Gender:\n",
    "    if i == 'Boys' or i == 'Girls' or i == 'Unisex Kids':\n",
    "        x.append('Kids')\n",
    "    else:\n",
    "        x.append('Adult')\n",
    "        \n",
    "Data_Catalog['Age_flag'] = x\n",
    "\n",
    "#OR\n",
    "\n",
    "#x= np.wher((Data_Catalog['Gender'] == 'Boys') | (Data_Catalog['Gender'] == 'Girls')\n",
    "#          | (Data_Catalog['Gender'] == 'Unisex Kids'),'Kids' , 'Adult')\n",
    "\n",
    "#Data_Catalog['Age_flag'] = x"
   ]
  },
  {
   "cell_type": "code",
   "execution_count": 13,
   "id": "7bfbab10",
   "metadata": {},
   "outputs": [
    {
     "data": {
      "text/html": [
       "<div>\n",
       "<style scoped>\n",
       "    .dataframe tbody tr th:only-of-type {\n",
       "        vertical-align: middle;\n",
       "    }\n",
       "\n",
       "    .dataframe tbody tr th {\n",
       "        vertical-align: top;\n",
       "    }\n",
       "\n",
       "    .dataframe thead th {\n",
       "        text-align: right;\n",
       "    }\n",
       "</style>\n",
       "<table border=\"1\" class=\"dataframe\">\n",
       "  <thead>\n",
       "    <tr style=\"text-align: right;\">\n",
       "      <th></th>\n",
       "      <th>Gender</th>\n",
       "      <th>Price (INR)</th>\n",
       "      <th>NumImages</th>\n",
       "      <th>ID</th>\n",
       "      <th>Description</th>\n",
       "      <th>PrimaryColor</th>\n",
       "      <th>New_Gender</th>\n",
       "      <th>Age_flag</th>\n",
       "    </tr>\n",
       "  </thead>\n",
       "  <tbody>\n",
       "    <tr>\n",
       "      <th>0</th>\n",
       "      <td>Women</td>\n",
       "      <td>593</td>\n",
       "      <td>5</td>\n",
       "      <td>10182131</td>\n",
       "      <td>Off-White printed woven A-line  top, has a rou...</td>\n",
       "      <td>White</td>\n",
       "      <td>F</td>\n",
       "      <td>Adult</td>\n",
       "    </tr>\n",
       "    <tr>\n",
       "      <th>1</th>\n",
       "      <td>Men</td>\n",
       "      <td>6396</td>\n",
       "      <td>5</td>\n",
       "      <td>10052169</td>\n",
       "      <td>Display: AnalogueMovement: QuartzPower source:...</td>\n",
       "      <td>Black</td>\n",
       "      <td>M</td>\n",
       "      <td>Adult</td>\n",
       "    </tr>\n",
       "    <tr>\n",
       "      <th>2</th>\n",
       "      <td>Women</td>\n",
       "      <td>599</td>\n",
       "      <td>5</td>\n",
       "      <td>10168643</td>\n",
       "      <td>Blue printed knitted regular  top, has a high ...</td>\n",
       "      <td>Blue</td>\n",
       "      <td>F</td>\n",
       "      <td>Adult</td>\n",
       "    </tr>\n",
       "    <tr>\n",
       "      <th>3</th>\n",
       "      <td>Men</td>\n",
       "      <td>1034</td>\n",
       "      <td>5</td>\n",
       "      <td>10155427</td>\n",
       "      <td>Grey and Purple checked smart casual shirt, ha...</td>\n",
       "      <td>Grey</td>\n",
       "      <td>M</td>\n",
       "      <td>Adult</td>\n",
       "    </tr>\n",
       "    <tr>\n",
       "      <th>4</th>\n",
       "      <td>Men</td>\n",
       "      <td>477</td>\n",
       "      <td>3</td>\n",
       "      <td>10191059</td>\n",
       "      <td>Beige and Brown striped beltReversible: NoStre...</td>\n",
       "      <td>Brown</td>\n",
       "      <td>M</td>\n",
       "      <td>Adult</td>\n",
       "    </tr>\n",
       "  </tbody>\n",
       "</table>\n",
       "</div>"
      ],
      "text/plain": [
       "  Gender  Price (INR)  NumImages        ID  \\\n",
       "0  Women          593          5  10182131   \n",
       "1    Men         6396          5  10052169   \n",
       "2  Women          599          5  10168643   \n",
       "3    Men         1034          5  10155427   \n",
       "4    Men          477          3  10191059   \n",
       "\n",
       "                                         Description PrimaryColor New_Gender  \\\n",
       "0  Off-White printed woven A-line  top, has a rou...        White          F   \n",
       "1  Display: AnalogueMovement: QuartzPower source:...        Black          M   \n",
       "2  Blue printed knitted regular  top, has a high ...         Blue          F   \n",
       "3  Grey and Purple checked smart casual shirt, ha...         Grey          M   \n",
       "4  Beige and Brown striped beltReversible: NoStre...        Brown          M   \n",
       "\n",
       "  Age_flag  \n",
       "0    Adult  \n",
       "1    Adult  \n",
       "2    Adult  \n",
       "3    Adult  \n",
       "4    Adult  "
      ]
     },
     "execution_count": 13,
     "metadata": {},
     "output_type": "execute_result"
    }
   ],
   "source": [
    "Data_Catalog.head()"
   ]
  },
  {
   "cell_type": "code",
   "execution_count": 14,
   "id": "e882397d",
   "metadata": {},
   "outputs": [
    {
     "data": {
      "text/plain": [
       "Adult    10905\n",
       "Kids      1586\n",
       "Name: Age_flag, dtype: int64"
      ]
     },
     "execution_count": 14,
     "metadata": {},
     "output_type": "execute_result"
    }
   ],
   "source": [
    "Data_Catalog.Age_flag.value_counts()"
   ]
  },
  {
   "cell_type": "code",
   "execution_count": 15,
   "id": "29d9831b",
   "metadata": {},
   "outputs": [],
   "source": [
    "Data_Catalog['des_len']=Data_Catalog.Description.apply(lambda x : len(x))"
   ]
  },
  {
   "cell_type": "code",
   "execution_count": 16,
   "id": "087a3a52",
   "metadata": {},
   "outputs": [
    {
     "data": {
      "text/html": [
       "<div>\n",
       "<style scoped>\n",
       "    .dataframe tbody tr th:only-of-type {\n",
       "        vertical-align: middle;\n",
       "    }\n",
       "\n",
       "    .dataframe tbody tr th {\n",
       "        vertical-align: top;\n",
       "    }\n",
       "\n",
       "    .dataframe thead th {\n",
       "        text-align: right;\n",
       "    }\n",
       "</style>\n",
       "<table border=\"1\" class=\"dataframe\">\n",
       "  <thead>\n",
       "    <tr style=\"text-align: right;\">\n",
       "      <th></th>\n",
       "      <th>Gender</th>\n",
       "      <th>Price (INR)</th>\n",
       "      <th>NumImages</th>\n",
       "      <th>ID</th>\n",
       "      <th>Description</th>\n",
       "      <th>PrimaryColor</th>\n",
       "      <th>New_Gender</th>\n",
       "      <th>Age_flag</th>\n",
       "      <th>des_len</th>\n",
       "    </tr>\n",
       "  </thead>\n",
       "  <tbody>\n",
       "    <tr>\n",
       "      <th>0</th>\n",
       "      <td>Women</td>\n",
       "      <td>593</td>\n",
       "      <td>5</td>\n",
       "      <td>10182131</td>\n",
       "      <td>Off-White printed woven A-line  top, has a rou...</td>\n",
       "      <td>White</td>\n",
       "      <td>F</td>\n",
       "      <td>Adult</td>\n",
       "      <td>102</td>\n",
       "    </tr>\n",
       "    <tr>\n",
       "      <th>1</th>\n",
       "      <td>Men</td>\n",
       "      <td>6396</td>\n",
       "      <td>5</td>\n",
       "      <td>10052169</td>\n",
       "      <td>Display: AnalogueMovement: QuartzPower source:...</td>\n",
       "      <td>Black</td>\n",
       "      <td>M</td>\n",
       "      <td>Adult</td>\n",
       "      <td>317</td>\n",
       "    </tr>\n",
       "    <tr>\n",
       "      <th>2</th>\n",
       "      <td>Women</td>\n",
       "      <td>599</td>\n",
       "      <td>5</td>\n",
       "      <td>10168643</td>\n",
       "      <td>Blue printed knitted regular  top, has a high ...</td>\n",
       "      <td>Blue</td>\n",
       "      <td>F</td>\n",
       "      <td>Adult</td>\n",
       "      <td>77</td>\n",
       "    </tr>\n",
       "    <tr>\n",
       "      <th>3</th>\n",
       "      <td>Men</td>\n",
       "      <td>1034</td>\n",
       "      <td>5</td>\n",
       "      <td>10155427</td>\n",
       "      <td>Grey and Purple checked smart casual shirt, ha...</td>\n",
       "      <td>Grey</td>\n",
       "      <td>M</td>\n",
       "      <td>Adult</td>\n",
       "      <td>110</td>\n",
       "    </tr>\n",
       "    <tr>\n",
       "      <th>4</th>\n",
       "      <td>Men</td>\n",
       "      <td>477</td>\n",
       "      <td>3</td>\n",
       "      <td>10191059</td>\n",
       "      <td>Beige and Brown striped beltReversible: NoStre...</td>\n",
       "      <td>Brown</td>\n",
       "      <td>M</td>\n",
       "      <td>Adult</td>\n",
       "      <td>141</td>\n",
       "    </tr>\n",
       "  </tbody>\n",
       "</table>\n",
       "</div>"
      ],
      "text/plain": [
       "  Gender  Price (INR)  NumImages        ID  \\\n",
       "0  Women          593          5  10182131   \n",
       "1    Men         6396          5  10052169   \n",
       "2  Women          599          5  10168643   \n",
       "3    Men         1034          5  10155427   \n",
       "4    Men          477          3  10191059   \n",
       "\n",
       "                                         Description PrimaryColor New_Gender  \\\n",
       "0  Off-White printed woven A-line  top, has a rou...        White          F   \n",
       "1  Display: AnalogueMovement: QuartzPower source:...        Black          M   \n",
       "2  Blue printed knitted regular  top, has a high ...         Blue          F   \n",
       "3  Grey and Purple checked smart casual shirt, ha...         Grey          M   \n",
       "4  Beige and Brown striped beltReversible: NoStre...        Brown          M   \n",
       "\n",
       "  Age_flag  des_len  \n",
       "0    Adult      102  \n",
       "1    Adult      317  \n",
       "2    Adult       77  \n",
       "3    Adult      110  \n",
       "4    Adult      141  "
      ]
     },
     "execution_count": 16,
     "metadata": {},
     "output_type": "execute_result"
    }
   ],
   "source": [
    "Data_Catalog.head()"
   ]
  },
  {
   "cell_type": "code",
   "execution_count": 17,
   "id": "5374ba1b",
   "metadata": {},
   "outputs": [
    {
     "data": {
      "text/plain": [
       "Blue         3443\n",
       " Black       1640\n",
       " Red         1543\n",
       " Green        908\n",
       " White        880\n",
       " Grey         684\n",
       " Brown        473\n",
       " Yellow       406\n",
       " Pink         391\n",
       " Gold         236\n",
       " Beige        236\n",
       " Maroon       187\n",
       " Orange       130\n",
       " Silver       111\n",
       " Purple        65\n",
       " Burgundy      64\n",
       " Khaki         56\n",
       " Navy          54\n",
       " Lavender      19\n",
       " Matte         17\n",
       " Mustard       15\n",
       " Magenta       13\n",
       " Charcoal      10\n",
       " Rose           8\n",
       " Platinum       3\n",
       " Bronze         3\n",
       " Peach          2\n",
       "Name: PrimaryColor, dtype: int64"
      ]
     },
     "execution_count": 17,
     "metadata": {},
     "output_type": "execute_result"
    }
   ],
   "source": [
    "Data_Catalog.PrimaryColor.value_counts()"
   ]
  },
  {
   "cell_type": "code",
   "execution_count": 18,
   "id": "eebf5209",
   "metadata": {},
   "outputs": [
    {
     "data": {
      "text/html": [
       "<div>\n",
       "<style scoped>\n",
       "    .dataframe tbody tr th:only-of-type {\n",
       "        vertical-align: middle;\n",
       "    }\n",
       "\n",
       "    .dataframe tbody tr th {\n",
       "        vertical-align: top;\n",
       "    }\n",
       "\n",
       "    .dataframe thead th {\n",
       "        text-align: right;\n",
       "    }\n",
       "</style>\n",
       "<table border=\"1\" class=\"dataframe\">\n",
       "  <thead>\n",
       "    <tr style=\"text-align: right;\">\n",
       "      <th></th>\n",
       "      <th>ProductID</th>\n",
       "      <th>ProductName</th>\n",
       "      <th>ProductBrand</th>\n",
       "    </tr>\n",
       "  </thead>\n",
       "  <tbody>\n",
       "    <tr>\n",
       "      <th>count</th>\n",
       "      <td>1.249100e+04</td>\n",
       "      <td>12491</td>\n",
       "      <td>12491</td>\n",
       "    </tr>\n",
       "    <tr>\n",
       "      <th>unique</th>\n",
       "      <td>NaN</td>\n",
       "      <td>10761</td>\n",
       "      <td>677</td>\n",
       "    </tr>\n",
       "    <tr>\n",
       "      <th>top</th>\n",
       "      <td>NaN</td>\n",
       "      <td>Parx Men Blue Slim Fit Checked Casual Shirt</td>\n",
       "      <td>Indian Terrain</td>\n",
       "    </tr>\n",
       "    <tr>\n",
       "      <th>freq</th>\n",
       "      <td>NaN</td>\n",
       "      <td>16</td>\n",
       "      <td>971</td>\n",
       "    </tr>\n",
       "    <tr>\n",
       "      <th>mean</th>\n",
       "      <td>9.917160e+06</td>\n",
       "      <td>NaN</td>\n",
       "      <td>NaN</td>\n",
       "    </tr>\n",
       "    <tr>\n",
       "      <th>std</th>\n",
       "      <td>1.438006e+06</td>\n",
       "      <td>NaN</td>\n",
       "      <td>NaN</td>\n",
       "    </tr>\n",
       "    <tr>\n",
       "      <th>min</th>\n",
       "      <td>1.012060e+05</td>\n",
       "      <td>NaN</td>\n",
       "      <td>NaN</td>\n",
       "    </tr>\n",
       "    <tr>\n",
       "      <th>25%</th>\n",
       "      <td>1.006215e+07</td>\n",
       "      <td>NaN</td>\n",
       "      <td>NaN</td>\n",
       "    </tr>\n",
       "    <tr>\n",
       "      <th>50%</th>\n",
       "      <td>1.015463e+07</td>\n",
       "      <td>NaN</td>\n",
       "      <td>NaN</td>\n",
       "    </tr>\n",
       "    <tr>\n",
       "      <th>75%</th>\n",
       "      <td>1.021565e+07</td>\n",
       "      <td>NaN</td>\n",
       "      <td>NaN</td>\n",
       "    </tr>\n",
       "    <tr>\n",
       "      <th>max</th>\n",
       "      <td>1.027514e+07</td>\n",
       "      <td>NaN</td>\n",
       "      <td>NaN</td>\n",
       "    </tr>\n",
       "  </tbody>\n",
       "</table>\n",
       "</div>"
      ],
      "text/plain": [
       "           ProductID                                  ProductName  \\\n",
       "count   1.249100e+04                                        12491   \n",
       "unique           NaN                                        10761   \n",
       "top              NaN  Parx Men Blue Slim Fit Checked Casual Shirt   \n",
       "freq             NaN                                           16   \n",
       "mean    9.917160e+06                                          NaN   \n",
       "std     1.438006e+06                                          NaN   \n",
       "min     1.012060e+05                                          NaN   \n",
       "25%     1.006215e+07                                          NaN   \n",
       "50%     1.015463e+07                                          NaN   \n",
       "75%     1.021565e+07                                          NaN   \n",
       "max     1.027514e+07                                          NaN   \n",
       "\n",
       "          ProductBrand  \n",
       "count            12491  \n",
       "unique             677  \n",
       "top     Indian Terrain  \n",
       "freq               971  \n",
       "mean               NaN  \n",
       "std                NaN  \n",
       "min                NaN  \n",
       "25%                NaN  \n",
       "50%                NaN  \n",
       "75%                NaN  \n",
       "max                NaN  "
      ]
     },
     "execution_count": 18,
     "metadata": {},
     "output_type": "execute_result"
    }
   ],
   "source": [
    "Data_Details.describe(include = 'all')"
   ]
  },
  {
   "cell_type": "code",
   "execution_count": 19,
   "id": "121ff5f6",
   "metadata": {},
   "outputs": [],
   "source": [
    "data_new= pd.merge(Data_Catalog,Data_Details,how = 'left',left_on = 'ID', right_on='ProductID')"
   ]
  },
  {
   "cell_type": "code",
   "execution_count": 20,
   "id": "c6da55cb",
   "metadata": {},
   "outputs": [
    {
     "data": {
      "text/html": [
       "<div>\n",
       "<style scoped>\n",
       "    .dataframe tbody tr th:only-of-type {\n",
       "        vertical-align: middle;\n",
       "    }\n",
       "\n",
       "    .dataframe tbody tr th {\n",
       "        vertical-align: top;\n",
       "    }\n",
       "\n",
       "    .dataframe thead th {\n",
       "        text-align: right;\n",
       "    }\n",
       "</style>\n",
       "<table border=\"1\" class=\"dataframe\">\n",
       "  <thead>\n",
       "    <tr style=\"text-align: right;\">\n",
       "      <th></th>\n",
       "      <th>Gender</th>\n",
       "      <th>Price (INR)</th>\n",
       "      <th>NumImages</th>\n",
       "      <th>ID</th>\n",
       "      <th>Description</th>\n",
       "      <th>PrimaryColor</th>\n",
       "      <th>New_Gender</th>\n",
       "      <th>Age_flag</th>\n",
       "      <th>des_len</th>\n",
       "      <th>ProductID</th>\n",
       "      <th>ProductName</th>\n",
       "      <th>ProductBrand</th>\n",
       "    </tr>\n",
       "  </thead>\n",
       "  <tbody>\n",
       "    <tr>\n",
       "      <th>0</th>\n",
       "      <td>Women</td>\n",
       "      <td>593</td>\n",
       "      <td>5</td>\n",
       "      <td>10182131</td>\n",
       "      <td>Off-White printed woven A-line  top, has a rou...</td>\n",
       "      <td>White</td>\n",
       "      <td>F</td>\n",
       "      <td>Adult</td>\n",
       "      <td>102</td>\n",
       "      <td>10182131</td>\n",
       "      <td>Bhama Couture Women Off-White Printed Pure Cot...</td>\n",
       "      <td>Bhama Couture</td>\n",
       "    </tr>\n",
       "    <tr>\n",
       "      <th>1</th>\n",
       "      <td>Men</td>\n",
       "      <td>6396</td>\n",
       "      <td>5</td>\n",
       "      <td>10052169</td>\n",
       "      <td>Display: AnalogueMovement: QuartzPower source:...</td>\n",
       "      <td>Black</td>\n",
       "      <td>M</td>\n",
       "      <td>Adult</td>\n",
       "      <td>317</td>\n",
       "      <td>10052169</td>\n",
       "      <td>Titan Octane Men Black Analogue watch NL90104KM02</td>\n",
       "      <td>Titan</td>\n",
       "    </tr>\n",
       "    <tr>\n",
       "      <th>2</th>\n",
       "      <td>Women</td>\n",
       "      <td>599</td>\n",
       "      <td>5</td>\n",
       "      <td>10168643</td>\n",
       "      <td>Blue printed knitted regular  top, has a high ...</td>\n",
       "      <td>Blue</td>\n",
       "      <td>F</td>\n",
       "      <td>Adult</td>\n",
       "      <td>77</td>\n",
       "      <td>10168643</td>\n",
       "      <td>Cation Women Blue Printed Crop Top</td>\n",
       "      <td>Cation</td>\n",
       "    </tr>\n",
       "    <tr>\n",
       "      <th>3</th>\n",
       "      <td>Men</td>\n",
       "      <td>1034</td>\n",
       "      <td>5</td>\n",
       "      <td>10155427</td>\n",
       "      <td>Grey and Purple checked smart casual shirt, ha...</td>\n",
       "      <td>Grey</td>\n",
       "      <td>M</td>\n",
       "      <td>Adult</td>\n",
       "      <td>110</td>\n",
       "      <td>10155427</td>\n",
       "      <td>Indian Terrain Men Grey &amp; Purple Slim Fit Chec...</td>\n",
       "      <td>Indian Terrain</td>\n",
       "    </tr>\n",
       "    <tr>\n",
       "      <th>4</th>\n",
       "      <td>Men</td>\n",
       "      <td>477</td>\n",
       "      <td>3</td>\n",
       "      <td>10191059</td>\n",
       "      <td>Beige and Brown striped beltReversible: NoStre...</td>\n",
       "      <td>Brown</td>\n",
       "      <td>M</td>\n",
       "      <td>Adult</td>\n",
       "      <td>141</td>\n",
       "      <td>10191059</td>\n",
       "      <td>Fastrack Men Beige &amp; Brown Striped Belt</td>\n",
       "      <td>Fastrack</td>\n",
       "    </tr>\n",
       "  </tbody>\n",
       "</table>\n",
       "</div>"
      ],
      "text/plain": [
       "  Gender  Price (INR)  NumImages        ID  \\\n",
       "0  Women          593          5  10182131   \n",
       "1    Men         6396          5  10052169   \n",
       "2  Women          599          5  10168643   \n",
       "3    Men         1034          5  10155427   \n",
       "4    Men          477          3  10191059   \n",
       "\n",
       "                                         Description PrimaryColor New_Gender  \\\n",
       "0  Off-White printed woven A-line  top, has a rou...        White          F   \n",
       "1  Display: AnalogueMovement: QuartzPower source:...        Black          M   \n",
       "2  Blue printed knitted regular  top, has a high ...         Blue          F   \n",
       "3  Grey and Purple checked smart casual shirt, ha...         Grey          M   \n",
       "4  Beige and Brown striped beltReversible: NoStre...        Brown          M   \n",
       "\n",
       "  Age_flag  des_len  ProductID  \\\n",
       "0    Adult      102   10182131   \n",
       "1    Adult      317   10052169   \n",
       "2    Adult       77   10168643   \n",
       "3    Adult      110   10155427   \n",
       "4    Adult      141   10191059   \n",
       "\n",
       "                                         ProductName    ProductBrand  \n",
       "0  Bhama Couture Women Off-White Printed Pure Cot...   Bhama Couture  \n",
       "1  Titan Octane Men Black Analogue watch NL90104KM02           Titan  \n",
       "2                 Cation Women Blue Printed Crop Top          Cation  \n",
       "3  Indian Terrain Men Grey & Purple Slim Fit Chec...  Indian Terrain  \n",
       "4            Fastrack Men Beige & Brown Striped Belt        Fastrack  "
      ]
     },
     "execution_count": 20,
     "metadata": {},
     "output_type": "execute_result"
    }
   ],
   "source": [
    "data_new.head()"
   ]
  },
  {
   "cell_type": "code",
   "execution_count": 21,
   "id": "fa1faf82",
   "metadata": {},
   "outputs": [],
   "source": [
    "data_new = data_new.drop_duplicates()"
   ]
  },
  {
   "cell_type": "code",
   "execution_count": 22,
   "id": "4f20227b",
   "metadata": {},
   "outputs": [
    {
     "data": {
      "text/plain": [
       "(12491, 12)"
      ]
     },
     "execution_count": 22,
     "metadata": {},
     "output_type": "execute_result"
    }
   ],
   "source": [
    "data_new.shape"
   ]
  },
  {
   "cell_type": "code",
   "execution_count": 23,
   "id": "362d0555",
   "metadata": {},
   "outputs": [
    {
     "data": {
      "text/plain": [
       "Gender            0\n",
       "Price (INR)       0\n",
       "NumImages         0\n",
       "ID                0\n",
       "Description       0\n",
       "PrimaryColor    894\n",
       "New_Gender        0\n",
       "Age_flag          0\n",
       "des_len           0\n",
       "ProductID         0\n",
       "ProductName       0\n",
       "ProductBrand      0\n",
       "dtype: int64"
      ]
     },
     "execution_count": 23,
     "metadata": {},
     "output_type": "execute_result"
    }
   ],
   "source": [
    "data_new.isnull().sum()"
   ]
  },
  {
   "cell_type": "code",
   "execution_count": 24,
   "id": "5ef0fc06",
   "metadata": {},
   "outputs": [
    {
     "data": {
      "text/plain": [
       "'Bhama Couture Women Off-White Printed Pure Cotton A-Line Top'"
      ]
     },
     "execution_count": 24,
     "metadata": {},
     "output_type": "execute_result"
    }
   ],
   "source": [
    "data_new.ProductName[0]"
   ]
  },
  {
   "cell_type": "code",
   "execution_count": 25,
   "id": "87060d43",
   "metadata": {},
   "outputs": [
    {
     "data": {
      "text/plain": [
       "'Bhama Couture'"
      ]
     },
     "execution_count": 25,
     "metadata": {},
     "output_type": "execute_result"
    }
   ],
   "source": [
    "data_new.ProductBrand[0]"
   ]
  },
  {
   "cell_type": "code",
   "execution_count": 26,
   "id": "4dc5cf38",
   "metadata": {},
   "outputs": [
    {
     "data": {
      "text/plain": [
       "'Women'"
      ]
     },
     "execution_count": 26,
     "metadata": {},
     "output_type": "execute_result"
    }
   ],
   "source": [
    "data_new.Gender[0]"
   ]
  },
  {
   "cell_type": "code",
   "execution_count": 27,
   "id": "0473993b",
   "metadata": {},
   "outputs": [
    {
     "data": {
      "text/plain": [
       "'Off-White printed woven A-line  top, has a round neck, three-quarter sleeves, and hook and eye closure'"
      ]
     },
     "execution_count": 27,
     "metadata": {},
     "output_type": "execute_result"
    }
   ],
   "source": [
    "data_new.Description[0]"
   ]
  },
  {
   "cell_type": "code",
   "execution_count": 28,
   "id": "8d0129d8",
   "metadata": {},
   "outputs": [
    {
     "data": {
      "text/plain": [
       "' White'"
      ]
     },
     "execution_count": 28,
     "metadata": {},
     "output_type": "execute_result"
    }
   ],
   "source": [
    "data_new.PrimaryColor[0]"
   ]
  },
  {
   "cell_type": "markdown",
   "id": "eaf4226a",
   "metadata": {},
   "source": [
    "There is a extrta space in PrimaryColor column which is called leading space and we need to remove it which called string strip. "
   ]
  },
  {
   "cell_type": "code",
   "execution_count": 29,
   "id": "b8632bb0",
   "metadata": {},
   "outputs": [],
   "source": [
    "data_new['PrimaryColor']=data_new.PrimaryColor.str.strip()"
   ]
  },
  {
   "cell_type": "code",
   "execution_count": 30,
   "id": "4dcc81a3",
   "metadata": {},
   "outputs": [
    {
     "data": {
      "text/plain": [
       "'White'"
      ]
     },
     "execution_count": 30,
     "metadata": {},
     "output_type": "execute_result"
    }
   ],
   "source": [
    "data_new.PrimaryColor[0]"
   ]
  },
  {
   "cell_type": "markdown",
   "id": "cc061fac",
   "metadata": {},
   "source": [
    "Now, We removed the extrta space in PrimaryColor column."
   ]
  },
  {
   "cell_type": "code",
   "execution_count": 31,
   "id": "db0c6eba",
   "metadata": {},
   "outputs": [],
   "source": [
    "data_new['PrimaryColor']=data_new.PrimaryColor.fillna('Others')"
   ]
  },
  {
   "cell_type": "code",
   "execution_count": 32,
   "id": "65009d47",
   "metadata": {},
   "outputs": [
    {
     "data": {
      "text/plain": [
       "0"
      ]
     },
     "execution_count": 32,
     "metadata": {},
     "output_type": "execute_result"
    }
   ],
   "source": [
    "data_new.PrimaryColor.isnull().sum()"
   ]
  },
  {
   "cell_type": "code",
   "execution_count": 33,
   "id": "fee9f5de",
   "metadata": {},
   "outputs": [],
   "source": [
    "data_new.rename(columns={'Price (INR)' : 'Price'}, inplace = True)"
   ]
  },
  {
   "cell_type": "code",
   "execution_count": 34,
   "id": "6fa00ebf",
   "metadata": {},
   "outputs": [
    {
     "name": "stdout",
     "output_type": "stream",
     "text": [
      "<class 'pandas.core.frame.DataFrame'>\n",
      "Int64Index: 12491 entries, 0 to 12490\n",
      "Data columns (total 12 columns):\n",
      " #   Column        Non-Null Count  Dtype \n",
      "---  ------        --------------  ----- \n",
      " 0   Gender        12491 non-null  object\n",
      " 1   Price         12491 non-null  int64 \n",
      " 2   NumImages     12491 non-null  int64 \n",
      " 3   ID            12491 non-null  int64 \n",
      " 4   Description   12491 non-null  object\n",
      " 5   PrimaryColor  12491 non-null  object\n",
      " 6   New_Gender    12491 non-null  object\n",
      " 7   Age_flag      12491 non-null  object\n",
      " 8   des_len       12491 non-null  int64 \n",
      " 9   ProductID     12491 non-null  int64 \n",
      " 10  ProductName   12491 non-null  object\n",
      " 11  ProductBrand  12491 non-null  object\n",
      "dtypes: int64(5), object(7)\n",
      "memory usage: 1.5+ MB\n"
     ]
    }
   ],
   "source": [
    "data_new.info()"
   ]
  },
  {
   "cell_type": "code",
   "execution_count": 35,
   "id": "c82000c3",
   "metadata": {},
   "outputs": [
    {
     "data": {
      "text/html": [
       "<div>\n",
       "<style scoped>\n",
       "    .dataframe tbody tr th:only-of-type {\n",
       "        vertical-align: middle;\n",
       "    }\n",
       "\n",
       "    .dataframe tbody tr th {\n",
       "        vertical-align: top;\n",
       "    }\n",
       "\n",
       "    .dataframe thead th {\n",
       "        text-align: right;\n",
       "    }\n",
       "</style>\n",
       "<table border=\"1\" class=\"dataframe\">\n",
       "  <thead>\n",
       "    <tr style=\"text-align: right;\">\n",
       "      <th></th>\n",
       "      <th>Gender</th>\n",
       "      <th>Price</th>\n",
       "      <th>NumImages</th>\n",
       "      <th>ID</th>\n",
       "      <th>Description</th>\n",
       "      <th>PrimaryColor</th>\n",
       "      <th>New_Gender</th>\n",
       "      <th>Age_flag</th>\n",
       "      <th>des_len</th>\n",
       "      <th>ProductID</th>\n",
       "      <th>ProductName</th>\n",
       "      <th>ProductBrand</th>\n",
       "    </tr>\n",
       "  </thead>\n",
       "  <tbody>\n",
       "    <tr>\n",
       "      <th>count</th>\n",
       "      <td>12491</td>\n",
       "      <td>12491.000000</td>\n",
       "      <td>12491.000000</td>\n",
       "      <td>1.249100e+04</td>\n",
       "      <td>12491</td>\n",
       "      <td>12491</td>\n",
       "      <td>12491</td>\n",
       "      <td>12491</td>\n",
       "      <td>12491.000000</td>\n",
       "      <td>1.249100e+04</td>\n",
       "      <td>12491</td>\n",
       "      <td>12491</td>\n",
       "    </tr>\n",
       "    <tr>\n",
       "      <th>unique</th>\n",
       "      <td>6</td>\n",
       "      <td>NaN</td>\n",
       "      <td>NaN</td>\n",
       "      <td>NaN</td>\n",
       "      <td>10435</td>\n",
       "      <td>28</td>\n",
       "      <td>3</td>\n",
       "      <td>2</td>\n",
       "      <td>NaN</td>\n",
       "      <td>NaN</td>\n",
       "      <td>10761</td>\n",
       "      <td>677</td>\n",
       "    </tr>\n",
       "    <tr>\n",
       "      <th>top</th>\n",
       "      <td>Women</td>\n",
       "      <td>NaN</td>\n",
       "      <td>NaN</td>\n",
       "      <td>NaN</td>\n",
       "      <td>Blue medium wash 5-pocket mid-rise jeans, clea...</td>\n",
       "      <td>Blue</td>\n",
       "      <td>M</td>\n",
       "      <td>Adult</td>\n",
       "      <td>NaN</td>\n",
       "      <td>NaN</td>\n",
       "      <td>Parx Men Blue Slim Fit Checked Casual Shirt</td>\n",
       "      <td>Indian Terrain</td>\n",
       "    </tr>\n",
       "    <tr>\n",
       "      <th>freq</th>\n",
       "      <td>5126</td>\n",
       "      <td>NaN</td>\n",
       "      <td>NaN</td>\n",
       "      <td>NaN</td>\n",
       "      <td>54</td>\n",
       "      <td>3443</td>\n",
       "      <td>5691</td>\n",
       "      <td>10905</td>\n",
       "      <td>NaN</td>\n",
       "      <td>NaN</td>\n",
       "      <td>16</td>\n",
       "      <td>971</td>\n",
       "    </tr>\n",
       "    <tr>\n",
       "      <th>mean</th>\n",
       "      <td>NaN</td>\n",
       "      <td>1452.660956</td>\n",
       "      <td>4.913698</td>\n",
       "      <td>9.917160e+06</td>\n",
       "      <td>NaN</td>\n",
       "      <td>NaN</td>\n",
       "      <td>NaN</td>\n",
       "      <td>NaN</td>\n",
       "      <td>159.185173</td>\n",
       "      <td>9.917160e+06</td>\n",
       "      <td>NaN</td>\n",
       "      <td>NaN</td>\n",
       "    </tr>\n",
       "    <tr>\n",
       "      <th>std</th>\n",
       "      <td>NaN</td>\n",
       "      <td>2118.503976</td>\n",
       "      <td>1.092333</td>\n",
       "      <td>1.438006e+06</td>\n",
       "      <td>NaN</td>\n",
       "      <td>NaN</td>\n",
       "      <td>NaN</td>\n",
       "      <td>NaN</td>\n",
       "      <td>155.039114</td>\n",
       "      <td>1.438006e+06</td>\n",
       "      <td>NaN</td>\n",
       "      <td>NaN</td>\n",
       "    </tr>\n",
       "    <tr>\n",
       "      <th>min</th>\n",
       "      <td>NaN</td>\n",
       "      <td>90.000000</td>\n",
       "      <td>1.000000</td>\n",
       "      <td>1.012060e+05</td>\n",
       "      <td>NaN</td>\n",
       "      <td>NaN</td>\n",
       "      <td>NaN</td>\n",
       "      <td>NaN</td>\n",
       "      <td>7.000000</td>\n",
       "      <td>1.012060e+05</td>\n",
       "      <td>NaN</td>\n",
       "      <td>NaN</td>\n",
       "    </tr>\n",
       "    <tr>\n",
       "      <th>25%</th>\n",
       "      <td>NaN</td>\n",
       "      <td>649.000000</td>\n",
       "      <td>5.000000</td>\n",
       "      <td>1.006215e+07</td>\n",
       "      <td>NaN</td>\n",
       "      <td>NaN</td>\n",
       "      <td>NaN</td>\n",
       "      <td>NaN</td>\n",
       "      <td>91.000000</td>\n",
       "      <td>1.006215e+07</td>\n",
       "      <td>NaN</td>\n",
       "      <td>NaN</td>\n",
       "    </tr>\n",
       "    <tr>\n",
       "      <th>50%</th>\n",
       "      <td>NaN</td>\n",
       "      <td>920.000000</td>\n",
       "      <td>5.000000</td>\n",
       "      <td>1.015463e+07</td>\n",
       "      <td>NaN</td>\n",
       "      <td>NaN</td>\n",
       "      <td>NaN</td>\n",
       "      <td>NaN</td>\n",
       "      <td>119.000000</td>\n",
       "      <td>1.015463e+07</td>\n",
       "      <td>NaN</td>\n",
       "      <td>NaN</td>\n",
       "    </tr>\n",
       "    <tr>\n",
       "      <th>75%</th>\n",
       "      <td>NaN</td>\n",
       "      <td>1499.000000</td>\n",
       "      <td>5.000000</td>\n",
       "      <td>1.021565e+07</td>\n",
       "      <td>NaN</td>\n",
       "      <td>NaN</td>\n",
       "      <td>NaN</td>\n",
       "      <td>NaN</td>\n",
       "      <td>171.000000</td>\n",
       "      <td>1.021565e+07</td>\n",
       "      <td>NaN</td>\n",
       "      <td>NaN</td>\n",
       "    </tr>\n",
       "    <tr>\n",
       "      <th>max</th>\n",
       "      <td>NaN</td>\n",
       "      <td>63090.000000</td>\n",
       "      <td>10.000000</td>\n",
       "      <td>1.027514e+07</td>\n",
       "      <td>NaN</td>\n",
       "      <td>NaN</td>\n",
       "      <td>NaN</td>\n",
       "      <td>NaN</td>\n",
       "      <td>3670.000000</td>\n",
       "      <td>1.027514e+07</td>\n",
       "      <td>NaN</td>\n",
       "      <td>NaN</td>\n",
       "    </tr>\n",
       "  </tbody>\n",
       "</table>\n",
       "</div>"
      ],
      "text/plain": [
       "       Gender         Price     NumImages            ID  \\\n",
       "count   12491  12491.000000  12491.000000  1.249100e+04   \n",
       "unique      6           NaN           NaN           NaN   \n",
       "top     Women           NaN           NaN           NaN   \n",
       "freq     5126           NaN           NaN           NaN   \n",
       "mean      NaN   1452.660956      4.913698  9.917160e+06   \n",
       "std       NaN   2118.503976      1.092333  1.438006e+06   \n",
       "min       NaN     90.000000      1.000000  1.012060e+05   \n",
       "25%       NaN    649.000000      5.000000  1.006215e+07   \n",
       "50%       NaN    920.000000      5.000000  1.015463e+07   \n",
       "75%       NaN   1499.000000      5.000000  1.021565e+07   \n",
       "max       NaN  63090.000000     10.000000  1.027514e+07   \n",
       "\n",
       "                                              Description PrimaryColor  \\\n",
       "count                                               12491        12491   \n",
       "unique                                              10435           28   \n",
       "top     Blue medium wash 5-pocket mid-rise jeans, clea...         Blue   \n",
       "freq                                                   54         3443   \n",
       "mean                                                  NaN          NaN   \n",
       "std                                                   NaN          NaN   \n",
       "min                                                   NaN          NaN   \n",
       "25%                                                   NaN          NaN   \n",
       "50%                                                   NaN          NaN   \n",
       "75%                                                   NaN          NaN   \n",
       "max                                                   NaN          NaN   \n",
       "\n",
       "       New_Gender Age_flag       des_len     ProductID  \\\n",
       "count       12491    12491  12491.000000  1.249100e+04   \n",
       "unique          3        2           NaN           NaN   \n",
       "top             M    Adult           NaN           NaN   \n",
       "freq         5691    10905           NaN           NaN   \n",
       "mean          NaN      NaN    159.185173  9.917160e+06   \n",
       "std           NaN      NaN    155.039114  1.438006e+06   \n",
       "min           NaN      NaN      7.000000  1.012060e+05   \n",
       "25%           NaN      NaN     91.000000  1.006215e+07   \n",
       "50%           NaN      NaN    119.000000  1.015463e+07   \n",
       "75%           NaN      NaN    171.000000  1.021565e+07   \n",
       "max           NaN      NaN   3670.000000  1.027514e+07   \n",
       "\n",
       "                                        ProductName    ProductBrand  \n",
       "count                                         12491           12491  \n",
       "unique                                        10761             677  \n",
       "top     Parx Men Blue Slim Fit Checked Casual Shirt  Indian Terrain  \n",
       "freq                                             16             971  \n",
       "mean                                            NaN             NaN  \n",
       "std                                             NaN             NaN  \n",
       "min                                             NaN             NaN  \n",
       "25%                                             NaN             NaN  \n",
       "50%                                             NaN             NaN  \n",
       "75%                                             NaN             NaN  \n",
       "max                                             NaN             NaN  "
      ]
     },
     "execution_count": 35,
     "metadata": {},
     "output_type": "execute_result"
    }
   ],
   "source": [
    "# Univariate analysis \n",
    "\n",
    "data_new.describe(include='all')"
   ]
  },
  {
   "cell_type": "code",
   "execution_count": 36,
   "id": "03912355",
   "metadata": {},
   "outputs": [
    {
     "name": "stdout",
     "output_type": "stream",
     "text": [
      "<class 'pandas.core.frame.DataFrame'>\n",
      "Int64Index: 12491 entries, 0 to 12490\n",
      "Data columns (total 12 columns):\n",
      " #   Column        Non-Null Count  Dtype \n",
      "---  ------        --------------  ----- \n",
      " 0   Gender        12491 non-null  object\n",
      " 1   Price         12491 non-null  int64 \n",
      " 2   NumImages     12491 non-null  int64 \n",
      " 3   ID            12491 non-null  int64 \n",
      " 4   Description   12491 non-null  object\n",
      " 5   PrimaryColor  12491 non-null  object\n",
      " 6   New_Gender    12491 non-null  object\n",
      " 7   Age_flag      12491 non-null  object\n",
      " 8   des_len       12491 non-null  int64 \n",
      " 9   ProductID     12491 non-null  int64 \n",
      " 10  ProductName   12491 non-null  object\n",
      " 11  ProductBrand  12491 non-null  object\n",
      "dtypes: int64(5), object(7)\n",
      "memory usage: 1.5+ MB\n"
     ]
    }
   ],
   "source": [
    "data_new.info()"
   ]
  },
  {
   "cell_type": "markdown",
   "id": "1cef36a8",
   "metadata": {},
   "source": [
    "# Univariate analysis \n",
    "\n",
    "1. Product name - 10761 unique product and Parx Men Blue Slim Fit Checked Casual Shirt is more frequent\n",
    "2. Product brand - 677 unique brand and Indian terrian is most frequent \n",
    "3. Gender - 6 unique gender . Women is most frequent \n",
    "4. Price - Avg order value is 1453 (90- 63090)\n",
    "5. Color - 28 unique color and Blue is most common "
   ]
  },
  {
   "cell_type": "markdown",
   "id": "7afe192a",
   "metadata": {},
   "source": [
    "--------------------------------------------------------------------------------------------------------------------------------------------------------------------------------------------------------------------------------------------------------------------------------------------------------------------------------------------------------------------------------------------------------------------------------------------------------------------------------------------------------------------------------------------------------------------------------------------------------------------------------------------------------------------------------------------------------------------------------------------------------------------------------------------------------------------------------------------------------------------------------------------------------------------------------"
   ]
  },
  {
   "cell_type": "markdown",
   "id": "f9dca864",
   "metadata": {},
   "source": [
    "### 1. What is average shopping value for the Gender ?\n",
    "### 2. What is average numimage that derives the Gender to do shoping ?\n",
    "### 3.Most and lowest frequent brand used by male and female ?\n",
    "### 4.Most frequent frequent color used byb male and female ?"
   ]
  },
  {
   "cell_type": "code",
   "execution_count": 37,
   "id": "c727a8e9",
   "metadata": {},
   "outputs": [
    {
     "data": {
      "text/plain": [
       "M    5691\n",
       "F    5566\n",
       "U    1234\n",
       "Name: New_Gender, dtype: int64"
      ]
     },
     "execution_count": 37,
     "metadata": {},
     "output_type": "execute_result"
    }
   ],
   "source": [
    "data_new.New_Gender.value_counts()"
   ]
  },
  {
   "cell_type": "code",
   "execution_count": 38,
   "id": "fa7ae8ed",
   "metadata": {},
   "outputs": [
    {
     "data": {
      "text/plain": [
       "New_Gender\n",
       "F    1323.562702\n",
       "M    1434.021613\n",
       "U    2120.924635\n",
       "Name: Price, dtype: float64"
      ]
     },
     "execution_count": 38,
     "metadata": {},
     "output_type": "execute_result"
    }
   ],
   "source": [
    "data_new.groupby('New_Gender')['Price'].mean()"
   ]
  },
  {
   "cell_type": "code",
   "execution_count": 39,
   "id": "7b9b9ae1",
   "metadata": {},
   "outputs": [
    {
     "data": {
      "text/plain": [
       "New_Gender\n",
       "F    4.951671\n",
       "M    4.981198\n",
       "U    4.431118\n",
       "Name: NumImages, dtype: float64"
      ]
     },
     "execution_count": 39,
     "metadata": {},
     "output_type": "execute_result"
    }
   ],
   "source": [
    "data_new.groupby('New_Gender')['NumImages'].mean()"
   ]
  },
  {
   "cell_type": "code",
   "execution_count": 40,
   "id": "f2551db6",
   "metadata": {},
   "outputs": [
    {
     "data": {
      "text/plain": [
       "Gender\n",
       "Boys           4.007273\n",
       "Girls          3.977273\n",
       "Men            5.214550\n",
       "Unisex         4.443603\n",
       "Unisex Kids    4.108696\n",
       "Women          5.035310\n",
       "Name: NumImages, dtype: float64"
      ]
     },
     "execution_count": 40,
     "metadata": {},
     "output_type": "execute_result"
    }
   ],
   "source": [
    "data_new.groupby('Gender')['NumImages'].mean()"
   ]
  },
  {
   "cell_type": "code",
   "execution_count": 41,
   "id": "6523a050",
   "metadata": {},
   "outputs": [
    {
     "data": {
      "text/plain": [
       "<AxesSubplot:ylabel='Price'>"
      ]
     },
     "execution_count": 41,
     "metadata": {},
     "output_type": "execute_result"
    },
    {
     "data": {
      "image/png": "[encoded data removed]",
      "text/plain": [
       "<Figure size 432x288 with 1 Axes>"
      ]
     },
     "metadata": {
      "needs_background": "light"
     },
     "output_type": "display_data"
    }
   ],
   "source": [
    "sns.boxplot(y='Price',data=data_new)"
   ]
  },
  {
   "cell_type": "code",
   "execution_count": 42,
   "id": "3efb90ab",
   "metadata": {},
   "outputs": [
    {
     "data": {
      "text/plain": [
       "Indian Terrain    971\n",
       "Puma              345\n",
       "Pepe Jeans        340\n",
       "AURELIA           307\n",
       "Flying Machine    301\n",
       "                 ... \n",
       "Lychee bags         1\n",
       "CERIZ               1\n",
       "Fourwalls           1\n",
       "Daffodils           1\n",
       "FS Mini Klub        1\n",
       "Name: ProductBrand, Length: 677, dtype: int64"
      ]
     },
     "execution_count": 42,
     "metadata": {},
     "output_type": "execute_result"
    }
   ],
   "source": [
    "data_new.ProductBrand.value_counts()"
   ]
  },
  {
   "cell_type": "code",
   "execution_count": 43,
   "id": "9a1630f5",
   "metadata": {},
   "outputs": [
    {
     "data": {
      "text/plain": [
       "Indian Terrain          971\n",
       "Pepe Jeans              340\n",
       "Flying Machine          301\n",
       "AURELIA                 284\n",
       "U.S. Polo Assn. Kids    232\n",
       "                       ... \n",
       "LilPicks                  1\n",
       "AWW HUNNIE                1\n",
       "CINOCCI                   1\n",
       "Noble Faith               1\n",
       "FS Mini Klub              1\n",
       "Name: ProductBrand, Length: 638, dtype: int64"
      ]
     },
     "execution_count": 43,
     "metadata": {},
     "output_type": "execute_result"
    }
   ],
   "source": [
    "df_1 = data_new[data_new['Price']<2700]\n",
    "df_1.ProductBrand.value_counts()"
   ]
  },
  {
   "cell_type": "code",
   "execution_count": 44,
   "id": "fa408159",
   "metadata": {},
   "outputs": [
    {
     "data": {
      "text/plain": [
       "Puma                  140\n",
       "Titan                  90\n",
       "Calvin Klein Jeans     87\n",
       "Geox                   81\n",
       "Levis                  52\n",
       "                     ... \n",
       "Call It Spring          1\n",
       "Jacques Lemans          1\n",
       "Arrow Sport             1\n",
       "aramis                  1\n",
       "U.S. Polo Assn.         1\n",
       "Name: ProductBrand, Length: 143, dtype: int64"
      ]
     },
     "execution_count": 44,
     "metadata": {},
     "output_type": "execute_result"
    }
   ],
   "source": [
    "df_2 = data_new[data_new['Price']>=2700]\n",
    "df_2.ProductBrand.value_counts()"
   ]
  },
  {
   "cell_type": "code",
   "execution_count": 45,
   "id": "467c14b3",
   "metadata": {},
   "outputs": [
    {
     "data": {
      "text/plain": [
       "(971, 12)"
      ]
     },
     "execution_count": 45,
     "metadata": {},
     "output_type": "execute_result"
    }
   ],
   "source": [
    "temp1 = data_new[data_new['ProductBrand'] == 'Indian Terrain']\n",
    "temp1.shape"
   ]
  },
  {
   "cell_type": "code",
   "execution_count": 46,
   "id": "9f86ee80",
   "metadata": {},
   "outputs": [
    {
     "data": {
      "text/html": [
       "<div>\n",
       "<style scoped>\n",
       "    .dataframe tbody tr th:only-of-type {\n",
       "        vertical-align: middle;\n",
       "    }\n",
       "\n",
       "    .dataframe tbody tr th {\n",
       "        vertical-align: top;\n",
       "    }\n",
       "\n",
       "    .dataframe thead th {\n",
       "        text-align: right;\n",
       "    }\n",
       "</style>\n",
       "<table border=\"1\" class=\"dataframe\">\n",
       "  <thead>\n",
       "    <tr style=\"text-align: right;\">\n",
       "      <th></th>\n",
       "      <th>Gender</th>\n",
       "      <th>Price</th>\n",
       "      <th>NumImages</th>\n",
       "      <th>ID</th>\n",
       "      <th>Description</th>\n",
       "      <th>PrimaryColor</th>\n",
       "      <th>New_Gender</th>\n",
       "      <th>Age_flag</th>\n",
       "      <th>des_len</th>\n",
       "      <th>ProductID</th>\n",
       "      <th>ProductName</th>\n",
       "      <th>ProductBrand</th>\n",
       "    </tr>\n",
       "  </thead>\n",
       "  <tbody>\n",
       "    <tr>\n",
       "      <th>count</th>\n",
       "      <td>971</td>\n",
       "      <td>971.000000</td>\n",
       "      <td>971.000000</td>\n",
       "      <td>9.710000e+02</td>\n",
       "      <td>971</td>\n",
       "      <td>971</td>\n",
       "      <td>971</td>\n",
       "      <td>971</td>\n",
       "      <td>971.000000</td>\n",
       "      <td>9.710000e+02</td>\n",
       "      <td>971</td>\n",
       "      <td>971</td>\n",
       "    </tr>\n",
       "    <tr>\n",
       "      <th>unique</th>\n",
       "      <td>2</td>\n",
       "      <td>NaN</td>\n",
       "      <td>NaN</td>\n",
       "      <td>NaN</td>\n",
       "      <td>794</td>\n",
       "      <td>18</td>\n",
       "      <td>1</td>\n",
       "      <td>2</td>\n",
       "      <td>NaN</td>\n",
       "      <td>NaN</td>\n",
       "      <td>737</td>\n",
       "      <td>1</td>\n",
       "    </tr>\n",
       "    <tr>\n",
       "      <th>top</th>\n",
       "      <td>Men</td>\n",
       "      <td>NaN</td>\n",
       "      <td>NaN</td>\n",
       "      <td>NaN</td>\n",
       "      <td>White printed T-shirt, has a round neck, and l...</td>\n",
       "      <td>Blue</td>\n",
       "      <td>M</td>\n",
       "      <td>Adult</td>\n",
       "      <td>NaN</td>\n",
       "      <td>NaN</td>\n",
       "      <td>Indian Terrain Men Blue &amp; White Slim Fit Check...</td>\n",
       "      <td>Indian Terrain</td>\n",
       "    </tr>\n",
       "    <tr>\n",
       "      <th>freq</th>\n",
       "      <td>665</td>\n",
       "      <td>NaN</td>\n",
       "      <td>NaN</td>\n",
       "      <td>NaN</td>\n",
       "      <td>8</td>\n",
       "      <td>368</td>\n",
       "      <td>971</td>\n",
       "      <td>665</td>\n",
       "      <td>NaN</td>\n",
       "      <td>NaN</td>\n",
       "      <td>10</td>\n",
       "      <td>971</td>\n",
       "    </tr>\n",
       "    <tr>\n",
       "      <th>mean</th>\n",
       "      <td>NaN</td>\n",
       "      <td>966.057673</td>\n",
       "      <td>5.000000</td>\n",
       "      <td>1.014762e+07</td>\n",
       "      <td>NaN</td>\n",
       "      <td>NaN</td>\n",
       "      <td>NaN</td>\n",
       "      <td>NaN</td>\n",
       "      <td>97.958805</td>\n",
       "      <td>1.014762e+07</td>\n",
       "      <td>NaN</td>\n",
       "      <td>NaN</td>\n",
       "    </tr>\n",
       "    <tr>\n",
       "      <th>std</th>\n",
       "      <td>NaN</td>\n",
       "      <td>460.676176</td>\n",
       "      <td>0.951396</td>\n",
       "      <td>9.667644e+03</td>\n",
       "      <td>NaN</td>\n",
       "      <td>NaN</td>\n",
       "      <td>NaN</td>\n",
       "      <td>NaN</td>\n",
       "      <td>30.424223</td>\n",
       "      <td>9.667644e+03</td>\n",
       "      <td>NaN</td>\n",
       "      <td>NaN</td>\n",
       "    </tr>\n",
       "    <tr>\n",
       "      <th>min</th>\n",
       "      <td>NaN</td>\n",
       "      <td>314.000000</td>\n",
       "      <td>3.000000</td>\n",
       "      <td>1.013445e+07</td>\n",
       "      <td>NaN</td>\n",
       "      <td>NaN</td>\n",
       "      <td>NaN</td>\n",
       "      <td>NaN</td>\n",
       "      <td>48.000000</td>\n",
       "      <td>1.013445e+07</td>\n",
       "      <td>NaN</td>\n",
       "      <td>NaN</td>\n",
       "    </tr>\n",
       "    <tr>\n",
       "      <th>25%</th>\n",
       "      <td>NaN</td>\n",
       "      <td>629.000000</td>\n",
       "      <td>5.000000</td>\n",
       "      <td>1.013861e+07</td>\n",
       "      <td>NaN</td>\n",
       "      <td>NaN</td>\n",
       "      <td>NaN</td>\n",
       "      <td>NaN</td>\n",
       "      <td>69.000000</td>\n",
       "      <td>1.013861e+07</td>\n",
       "      <td>NaN</td>\n",
       "      <td>NaN</td>\n",
       "    </tr>\n",
       "    <tr>\n",
       "      <th>50%</th>\n",
       "      <td>NaN</td>\n",
       "      <td>919.000000</td>\n",
       "      <td>5.000000</td>\n",
       "      <td>1.014886e+07</td>\n",
       "      <td>NaN</td>\n",
       "      <td>NaN</td>\n",
       "      <td>NaN</td>\n",
       "      <td>NaN</td>\n",
       "      <td>103.000000</td>\n",
       "      <td>1.014886e+07</td>\n",
       "      <td>NaN</td>\n",
       "      <td>NaN</td>\n",
       "    </tr>\n",
       "    <tr>\n",
       "      <th>75%</th>\n",
       "      <td>NaN</td>\n",
       "      <td>1079.000000</td>\n",
       "      <td>5.000000</td>\n",
       "      <td>1.015405e+07</td>\n",
       "      <td>NaN</td>\n",
       "      <td>NaN</td>\n",
       "      <td>NaN</td>\n",
       "      <td>NaN</td>\n",
       "      <td>121.000000</td>\n",
       "      <td>1.015405e+07</td>\n",
       "      <td>NaN</td>\n",
       "      <td>NaN</td>\n",
       "    </tr>\n",
       "    <tr>\n",
       "      <th>max</th>\n",
       "      <td>NaN</td>\n",
       "      <td>2699.000000</td>\n",
       "      <td>9.000000</td>\n",
       "      <td>1.027178e+07</td>\n",
       "      <td>NaN</td>\n",
       "      <td>NaN</td>\n",
       "      <td>NaN</td>\n",
       "      <td>NaN</td>\n",
       "      <td>239.000000</td>\n",
       "      <td>1.027178e+07</td>\n",
       "      <td>NaN</td>\n",
       "      <td>NaN</td>\n",
       "    </tr>\n",
       "  </tbody>\n",
       "</table>\n",
       "</div>"
      ],
      "text/plain": [
       "       Gender        Price   NumImages            ID  \\\n",
       "count     971   971.000000  971.000000  9.710000e+02   \n",
       "unique      2          NaN         NaN           NaN   \n",
       "top       Men          NaN         NaN           NaN   \n",
       "freq      665          NaN         NaN           NaN   \n",
       "mean      NaN   966.057673    5.000000  1.014762e+07   \n",
       "std       NaN   460.676176    0.951396  9.667644e+03   \n",
       "min       NaN   314.000000    3.000000  1.013445e+07   \n",
       "25%       NaN   629.000000    5.000000  1.013861e+07   \n",
       "50%       NaN   919.000000    5.000000  1.014886e+07   \n",
       "75%       NaN  1079.000000    5.000000  1.015405e+07   \n",
       "max       NaN  2699.000000    9.000000  1.027178e+07   \n",
       "\n",
       "                                              Description PrimaryColor  \\\n",
       "count                                                 971          971   \n",
       "unique                                                794           18   \n",
       "top     White printed T-shirt, has a round neck, and l...         Blue   \n",
       "freq                                                    8          368   \n",
       "mean                                                  NaN          NaN   \n",
       "std                                                   NaN          NaN   \n",
       "min                                                   NaN          NaN   \n",
       "25%                                                   NaN          NaN   \n",
       "50%                                                   NaN          NaN   \n",
       "75%                                                   NaN          NaN   \n",
       "max                                                   NaN          NaN   \n",
       "\n",
       "       New_Gender Age_flag     des_len     ProductID  \\\n",
       "count         971      971  971.000000  9.710000e+02   \n",
       "unique          1        2         NaN           NaN   \n",
       "top             M    Adult         NaN           NaN   \n",
       "freq          971      665         NaN           NaN   \n",
       "mean          NaN      NaN   97.958805  1.014762e+07   \n",
       "std           NaN      NaN   30.424223  9.667644e+03   \n",
       "min           NaN      NaN   48.000000  1.013445e+07   \n",
       "25%           NaN      NaN   69.000000  1.013861e+07   \n",
       "50%           NaN      NaN  103.000000  1.014886e+07   \n",
       "75%           NaN      NaN  121.000000  1.015405e+07   \n",
       "max           NaN      NaN  239.000000  1.027178e+07   \n",
       "\n",
       "                                              ProductName    ProductBrand  \n",
       "count                                                 971             971  \n",
       "unique                                                737               1  \n",
       "top     Indian Terrain Men Blue & White Slim Fit Check...  Indian Terrain  \n",
       "freq                                                   10             971  \n",
       "mean                                                  NaN             NaN  \n",
       "std                                                   NaN             NaN  \n",
       "min                                                   NaN             NaN  \n",
       "25%                                                   NaN             NaN  \n",
       "50%                                                   NaN             NaN  \n",
       "75%                                                   NaN             NaN  \n",
       "max                                                   NaN             NaN  "
      ]
     },
     "execution_count": 46,
     "metadata": {},
     "output_type": "execute_result"
    }
   ],
   "source": [
    "temp1.describe(include = 'all')"
   ]
  },
  {
   "cell_type": "markdown",
   "id": "43b4fe69",
   "metadata": {},
   "source": [
    "- **Indian Terrain** brand are Mostly prefered by **Men**."
   ]
  },
  {
   "cell_type": "code",
   "execution_count": 47,
   "id": "030ece58",
   "metadata": {},
   "outputs": [
    {
     "data": {
      "text/plain": [
       "AURELIA         307\n",
       "W               261\n",
       "Lavie           121\n",
       "HERE&NOW        118\n",
       "Roadster        108\n",
       "               ... \n",
       "Devis             1\n",
       "Slumber Jill      1\n",
       "Foolzy            1\n",
       "Keds              1\n",
       "pinwheel          1\n",
       "Name: ProductBrand, Length: 425, dtype: int64"
      ]
     },
     "execution_count": 47,
     "metadata": {},
     "output_type": "execute_result"
    }
   ],
   "source": [
    "data_new[data_new['New_Gender'] == 'F'].ProductBrand.value_counts()"
   ]
  },
  {
   "cell_type": "markdown",
   "id": "2ea153a9",
   "metadata": {},
   "source": [
    "- **AURELIA** brand are Mostly prefered by **Women**."
   ]
  },
  {
   "cell_type": "code",
   "execution_count": 48,
   "id": "38160726",
   "metadata": {},
   "outputs": [
    {
     "data": {
      "text/plain": [
       "Puma                  143\n",
       "Cortina               134\n",
       "SEJ by Nisha Gupta    103\n",
       "Soumya                 89\n",
       "Archies                75\n",
       "                     ... \n",
       "Orange and Orchid       1\n",
       "VLCC                    1\n",
       "Namyaa                  1\n",
       "NEUDIS                  1\n",
       "IT luggage              1\n",
       "Name: ProductBrand, Length: 101, dtype: int64"
      ]
     },
     "execution_count": 48,
     "metadata": {},
     "output_type": "execute_result"
    }
   ],
   "source": [
    "Unisex = data_new[data_new['New_Gender'] == 'U'].ProductBrand.value_counts()\n",
    "Unisex"
   ]
  },
  {
   "cell_type": "markdown",
   "id": "9b021bc6",
   "metadata": {},
   "source": [
    "- **Puma** brand are Mostly prefered by **Unisex**."
   ]
  },
  {
   "cell_type": "markdown",
   "id": "468872a5",
   "metadata": {},
   "source": [
    "# Bivariate Analysis "
   ]
  },
  {
   "cell_type": "code",
   "execution_count": 49,
   "id": "cd56be01",
   "metadata": {},
   "outputs": [
    {
     "data": {
      "image/png": "[encoded data removed]",
      "text/plain": [
       "<Figure size 1440x360 with 1 Axes>"
      ]
     },
     "metadata": {
      "needs_background": "light"
     },
     "output_type": "display_data"
    }
   ],
   "source": [
    "# Gender vs Price\n",
    "\n",
    "import matplotlib.pyplot as plt\n",
    "import seaborn as sns\n",
    "\n",
    "plt.figure(figsize = (20,5))\n",
    "\n",
    "sns.barplot(x='Gender',y='Price',data=data_new);\n",
    "\n",
    "plt.show()"
   ]
  },
  {
   "cell_type": "code",
   "execution_count": 50,
   "id": "f1092bc6",
   "metadata": {},
   "outputs": [
    {
     "data": {
      "image/png": "[encoded data removed]",
      "text/plain": [
       "<Figure size 1440x360 with 1 Axes>"
      ]
     },
     "metadata": {
      "needs_background": "light"
     },
     "output_type": "display_data"
    }
   ],
   "source": [
    "import matplotlib.pyplot as plt\n",
    "import seaborn as sns\n",
    "\n",
    "plt.figure(figsize = (20,5))\n",
    "\n",
    "sns.barplot(x='New_Gender',y='Price',data=data_new);\n",
    "\n",
    "plt.show()"
   ]
  },
  {
   "cell_type": "code",
   "execution_count": 51,
   "id": "c6e1a6a9",
   "metadata": {},
   "outputs": [
    {
     "data": {
      "image/png": "[encoded data removed]",
      "text/plain": [
       "<Figure size 1440x360 with 1 Axes>"
      ]
     },
     "metadata": {
      "needs_background": "light"
     },
     "output_type": "display_data"
    }
   ],
   "source": [
    "import matplotlib.pyplot as plt\n",
    "import seaborn as sns\n",
    "\n",
    "plt.figure(figsize = (20,5))\n",
    "\n",
    "sns.barplot(x='Age_flag',y='Price',data=data_new);\n",
    "\n",
    "plt.show()"
   ]
  },
  {
   "cell_type": "code",
   "execution_count": 52,
   "id": "48900913",
   "metadata": {},
   "outputs": [
    {
     "data": {
      "image/png": "[encoded data removed]",
      "text/plain": [
       "<Figure size 1440x360 with 1 Axes>"
      ]
     },
     "metadata": {
      "needs_background": "light"
     },
     "output_type": "display_data"
    }
   ],
   "source": [
    "import matplotlib.pyplot as plt\n",
    "import seaborn as sns \n",
    "\n",
    "plt.figure(figsize = (20,5))\n",
    "\n",
    "sns.barplot(x='Gender' , y= 'NumImages', data=data_new);\n",
    "\n",
    "plt.show()"
   ]
  },
  {
   "cell_type": "code",
   "execution_count": 53,
   "id": "f63eec38",
   "metadata": {},
   "outputs": [
    {
     "data": {
      "image/png": "[encoded data removed]",
      "text/plain": [
       "<Figure size 1440x360 with 1 Axes>"
      ]
     },
     "metadata": {
      "needs_background": "light"
     },
     "output_type": "display_data"
    }
   ],
   "source": [
    "import matplotlib.pyplot as plt\n",
    "import seaborn as sns \n",
    "\n",
    "plt.figure(figsize = (20,5))\n",
    "\n",
    "sns.barplot(x='New_Gender' , y= 'NumImages', data=data_new);\n",
    "\n",
    "plt.show()"
   ]
  },
  {
   "cell_type": "code",
   "execution_count": 54,
   "id": "5b0dd866",
   "metadata": {},
   "outputs": [
    {
     "data": {
      "text/plain": [
       "Puma                  143\n",
       "Cortina               134\n",
       "SEJ by Nisha Gupta    103\n",
       "Soumya                 89\n",
       "Archies                75\n",
       "Homesake               31\n",
       "PRESTO                 26\n",
       "DKNY                   25\n",
       "fancy mart             23\n",
       "MIAH Decor             22\n",
       "Name: ProductBrand, dtype: int64"
      ]
     },
     "execution_count": 54,
     "metadata": {},
     "output_type": "execute_result"
    }
   ],
   "source": [
    "Unisex.head(10)"
   ]
  },
  {
   "cell_type": "code",
   "execution_count": 55,
   "id": "b12462e3",
   "metadata": {},
   "outputs": [
    {
     "data": {
      "image/png": "[encoded data removed]",
      "text/plain": [
       "<Figure size 432x432 with 3 Axes>"
      ]
     },
     "metadata": {
      "needs_background": "light"
     },
     "output_type": "display_data"
    }
   ],
   "source": [
    "sns.jointplot(x='des_len',y='Price',data=data_new,kind='reg',color='r');"
   ]
  },
  {
   "cell_type": "markdown",
   "id": "8d039886",
   "metadata": {},
   "source": [
    "- Description of the product affect the price."
   ]
  },
  {
   "cell_type": "markdown",
   "id": "c8e6c216",
   "metadata": {},
   "source": [
    "## Conclusion\n",
    "\n",
    "- Product name - 10761 unique product and Parx Men Blue Slim Fit Checked Casual Shirt is more frequent\n",
    "- Product brand - 677 unique brand and Indian terrian is most frequent\n",
    "- Gender - 6 unique gender . Women is most frequent\n",
    "- Price - Avg order value is 1453 (90- 63090)\n",
    "- Color - 28 unique color and Blue is most common\n",
    "- The price of unisex procduct is high.\n",
    "- In men categorise the more product images are available, but sales of unisex product is more high so we also need to increase   number of images in unisex product.\n",
    "- Description of the product affect the pric, So for increase the sales of product we can increase the description of the         product. \n",
    "- Indian Terrain brand is the only brand which we can include in both luxury brand and comman brand.\n"
   ]
  },
  {
   "cell_type": "code",
   "execution_count": null,
   "id": "0fe08b65",
   "metadata": {},
   "outputs": [],
   "source": []
  }
 ],
 "metadata": {
  "kernelspec": {
   "display_name": "Python 3 (ipykernel)",
   "language": "python",
   "name": "python3"
  },
  "language_info": {
   "codemirror_mode": {
    "name": "ipython",
    "version": 3
   },
   "file_extension": ".py",
   "mimetype": "text/x-python",
   "name": "python",
   "nbconvert_exporter": "python",
   "pygments_lexer": "ipython3",
   "version": "3.9.12"
  }
 },
 "nbformat": 4,
 "nbformat_minor": 5
}
